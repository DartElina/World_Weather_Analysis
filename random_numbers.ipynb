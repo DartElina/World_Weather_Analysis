{
 "cells": [
  {
   "cell_type": "code",
   "execution_count": 1,
   "id": "b6375188",
   "metadata": {},
   "outputs": [],
   "source": [
    "import random "
   ]
  },
  {
   "cell_type": "code",
   "execution_count": 2,
   "id": "02ebdfbd",
   "metadata": {},
   "outputs": [
    {
     "data": {
      "text/plain": [
       "81"
      ]
     },
     "execution_count": 2,
     "metadata": {},
     "output_type": "execute_result"
    }
   ],
   "source": [
    "random.randint(-90,90)"
   ]
  },
  {
   "cell_type": "code",
   "execution_count": 3,
   "id": "a793f20a",
   "metadata": {},
   "outputs": [
    {
     "data": {
      "text/plain": [
       "0.3098981560335605"
      ]
     },
     "execution_count": 3,
     "metadata": {},
     "output_type": "execute_result"
    }
   ],
   "source": [
    "random.random()"
   ]
  },
  {
   "cell_type": "code",
   "execution_count": 4,
   "id": "bbadbb55",
   "metadata": {},
   "outputs": [],
   "source": [
    "x = 1\n",
    "latitudes = []\n",
    "while x<11:\n",
    "    random_lat= random.randint(-90,89)+random.random()\n",
    "    latitudes.append(random_lat)\n",
    "    x+=1"
   ]
  },
  {
   "cell_type": "code",
   "execution_count": 5,
   "id": "80932277",
   "metadata": {},
   "outputs": [
    {
     "data": {
      "text/plain": [
       "[80.6607441761029,\n",
       " -34.50471766296311,\n",
       " -43.91769529523247,\n",
       " 4.457658237257777,\n",
       " -82.94618555123736,\n",
       " -1.428249517285035,\n",
       " -32.82481530958388,\n",
       " 34.54116619142847,\n",
       " 32.27278140270899,\n",
       " -35.776238601278294]"
      ]
     },
     "execution_count": 5,
     "metadata": {},
     "output_type": "execute_result"
    }
   ],
   "source": [
    "latitudes"
   ]
  },
  {
   "cell_type": "code",
   "execution_count": 6,
   "id": "17b138b0",
   "metadata": {},
   "outputs": [
    {
     "data": {
      "text/plain": [
       "22"
      ]
     },
     "execution_count": 6,
     "metadata": {},
     "output_type": "execute_result"
    }
   ],
   "source": [
    "random.randrange(-90,90, step=1)"
   ]
  },
  {
   "cell_type": "code",
   "execution_count": 7,
   "id": "1b4d9329",
   "metadata": {},
   "outputs": [
    {
     "data": {
      "text/plain": [
       "39"
      ]
     },
     "execution_count": 7,
     "metadata": {},
     "output_type": "execute_result"
    }
   ],
   "source": [
    "random.randrange(-90,90, step=3)"
   ]
  },
  {
   "cell_type": "code",
   "execution_count": 8,
   "id": "405b1a83",
   "metadata": {},
   "outputs": [
    {
     "data": {
      "text/plain": [
       "-6.629305691438162"
      ]
     },
     "execution_count": 8,
     "metadata": {},
     "output_type": "execute_result"
    }
   ],
   "source": [
    "random.uniform(-90,90)"
   ]
  },
  {
   "cell_type": "code",
   "execution_count": 9,
   "id": "af214de2",
   "metadata": {},
   "outputs": [],
   "source": [
    "import numpy as np"
   ]
  },
  {
   "cell_type": "code",
   "execution_count": 11,
   "id": "c5eba3d7",
   "metadata": {},
   "outputs": [
    {
     "data": {
      "text/plain": [
       "-79.0038077810599"
      ]
     },
     "execution_count": 11,
     "metadata": {},
     "output_type": "execute_result"
    }
   ],
   "source": [
    "np.random.uniform(-90.000, 90.000)"
   ]
  },
  {
   "cell_type": "code",
   "execution_count": 12,
   "id": "38e54656",
   "metadata": {},
   "outputs": [
    {
     "data": {
      "text/plain": [
       "array([-29.0969735 , -55.52434951,  17.43394349, -18.77655595,\n",
       "        40.25921935, -63.91254484, -75.55059817,  75.88338585,\n",
       "         3.84313589,  -1.66135522,  36.43729887,  15.97604282,\n",
       "       -67.36415631, -23.78907077,  13.00484313, -40.9384341 ,\n",
       "       -42.01796108, -87.19171457, -44.83898132, -23.79327904,\n",
       "        58.01074653,  84.55018929, -17.28116183, -81.75359453,\n",
       "        -6.27758189,  -5.69538058,  62.93802636,  52.02474139,\n",
       "       -26.94786784,  -6.88075178,  41.971622  , -17.18502794,\n",
       "        35.3178381 , -89.99462951, -79.05564478, -15.9090773 ,\n",
       "        70.06556499,  82.01063945,   4.97631314,  83.22110198,\n",
       "       -57.83334115, -21.52058598,  75.83130221,   4.08670535,\n",
       "        -3.2802514 ,  -0.42769251,  -1.4940821 ,  84.72618856,\n",
       "       -65.83459599, -63.3808122 ])"
      ]
     },
     "execution_count": 12,
     "metadata": {},
     "output_type": "execute_result"
    }
   ],
   "source": [
    "np.random.uniform(-90,90, size= 50)"
   ]
  },
  {
   "cell_type": "code",
   "execution_count": 13,
   "id": "1fbf56f9",
   "metadata": {},
   "outputs": [],
   "source": [
    "import timeit"
   ]
  },
  {
   "cell_type": "code",
   "execution_count": 14,
   "id": "aa484339",
   "metadata": {},
   "outputs": [
    {
     "name": "stdout",
     "output_type": "stream",
     "text": [
      "18.1 µs ± 365 ns per loop (mean ± std. dev. of 7 runs, 100,000 loops each)\n"
     ]
    }
   ],
   "source": [
    "%timeit np.random.uniform(-90,90, size= 1500)"
   ]
  },
  {
   "cell_type": "code",
   "execution_count": 15,
   "id": "bf2fc0d9",
   "metadata": {},
   "outputs": [
    {
     "name": "stdout",
     "output_type": "stream",
     "text": [
      "1.79 ms ± 32 µs per loop (mean ± std. dev. of 7 runs, 100 loops each)\n"
     ]
    }
   ],
   "source": [
    "def latitudes(size):\n",
    "    latitudes=[]\n",
    "    x=0\n",
    "    while x<(size):\n",
    "        random_lat = random.randint(-90,90)+random.random()\n",
    "        latitudes.append(random_lat)\n",
    "        x+=1\n",
    "    return latitudes\n",
    "#call the function with 1500\n",
    "%timeit latitudes(1500)"
   ]
  },
  {
   "cell_type": "code",
   "execution_count": null,
   "id": "7b99a05e",
   "metadata": {},
   "outputs": [],
   "source": []
  }
 ],
 "metadata": {
  "kernelspec": {
   "display_name": "PythonData",
   "language": "python",
   "name": "pythondata"
  },
  "language_info": {
   "codemirror_mode": {
    "name": "ipython",
    "version": 3
   },
   "file_extension": ".py",
   "mimetype": "text/x-python",
   "name": "python",
   "nbconvert_exporter": "python",
   "pygments_lexer": "ipython3",
   "version": "3.9.12"
  }
 },
 "nbformat": 4,
 "nbformat_minor": 5
}
